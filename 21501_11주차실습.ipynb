{
  "nbformat": 4,
  "nbformat_minor": 0,
  "metadata": {
    "colab": {
      "name": "21501_11주차실습.ipynb",
      "provenance": [],
      "collapsed_sections": [],
      "authorship_tag": "ABX9TyNz0S11uGAwO8c/OcVHG4T3",
      "include_colab_link": true
    },
    "kernelspec": {
      "name": "python3",
      "display_name": "Python 3"
    },
    "language_info": {
      "name": "python"
    }
  },
  "cells": [
    {
      "cell_type": "markdown",
      "metadata": {
        "id": "view-in-github",
        "colab_type": "text"
      },
      "source": [
        "<a href=\"https://colab.research.google.com/github/21501/bmt_python/blob/main/21501_11%EC%A3%BC%EC%B0%A8%EC%8B%A4%EC%8A%B5.ipynb\" target=\"_parent\"><img src=\"https://colab.research.google.com/assets/colab-badge.svg\" alt=\"Open In Colab\"/></a>"
      ]
    },
    {
      "cell_type": "code",
      "metadata": {
        "id": "ieWvwhH4Ja0B"
      },
      "source": [
        "import pandas as pd\n",
        "import numpy as np\n",
        "import matplotlib.pyplot as plt"
      ],
      "execution_count": null,
      "outputs": []
    },
    {
      "cell_type": "code",
      "metadata": {
        "colab": {
          "base_uri": "https://localhost:8080/"
        },
        "id": "i9QgSljMK8M0",
        "outputId": "f022a6db-cea2-4e82-8020-9b33333595ca"
      },
      "source": [
        "dates = pd.date_range('20210514', periods=6)\n",
        "dates"
      ],
      "execution_count": null,
      "outputs": [
        {
          "output_type": "execute_result",
          "data": {
            "text/plain": [
              "DatetimeIndex(['2021-05-14', '2021-05-15', '2021-05-16', '2021-05-17',\n",
              "               '2021-05-18', '2021-05-19'],\n",
              "              dtype='datetime64[ns]', freq='D')"
            ]
          },
          "metadata": {
            "tags": []
          },
          "execution_count": 3
        }
      ]
    },
    {
      "cell_type": "code",
      "metadata": {
        "colab": {
          "base_uri": "https://localhost:8080/",
          "height": 235
        },
        "id": "-KPTM-rlLQBc",
        "outputId": "ddc82ba5-d0b2-458e-80d8-0f6fe2b1d6c1"
      },
      "source": [
        "df = pd.DataFrame(np.random.randn(6,4), index=dates, columns=list('ABCD')) \n",
        "df"
      ],
      "execution_count": null,
      "outputs": [
        {
          "output_type": "execute_result",
          "data": {
            "text/html": [
              "<div>\n",
              "<style scoped>\n",
              "    .dataframe tbody tr th:only-of-type {\n",
              "        vertical-align: middle;\n",
              "    }\n",
              "\n",
              "    .dataframe tbody tr th {\n",
              "        vertical-align: top;\n",
              "    }\n",
              "\n",
              "    .dataframe thead th {\n",
              "        text-align: right;\n",
              "    }\n",
              "</style>\n",
              "<table border=\"1\" class=\"dataframe\">\n",
              "  <thead>\n",
              "    <tr style=\"text-align: right;\">\n",
              "      <th></th>\n",
              "      <th>A</th>\n",
              "      <th>B</th>\n",
              "      <th>C</th>\n",
              "      <th>D</th>\n",
              "    </tr>\n",
              "  </thead>\n",
              "  <tbody>\n",
              "    <tr>\n",
              "      <th>2021-05-14</th>\n",
              "      <td>0.602186</td>\n",
              "      <td>1.204132</td>\n",
              "      <td>0.359264</td>\n",
              "      <td>1.027463</td>\n",
              "    </tr>\n",
              "    <tr>\n",
              "      <th>2021-05-15</th>\n",
              "      <td>-1.172688</td>\n",
              "      <td>-0.860485</td>\n",
              "      <td>0.256832</td>\n",
              "      <td>0.648323</td>\n",
              "    </tr>\n",
              "    <tr>\n",
              "      <th>2021-05-16</th>\n",
              "      <td>-1.534028</td>\n",
              "      <td>0.021475</td>\n",
              "      <td>-0.363917</td>\n",
              "      <td>-1.619678</td>\n",
              "    </tr>\n",
              "    <tr>\n",
              "      <th>2021-05-17</th>\n",
              "      <td>0.554636</td>\n",
              "      <td>-1.429508</td>\n",
              "      <td>0.736633</td>\n",
              "      <td>-0.679190</td>\n",
              "    </tr>\n",
              "    <tr>\n",
              "      <th>2021-05-18</th>\n",
              "      <td>-0.808897</td>\n",
              "      <td>0.585424</td>\n",
              "      <td>-0.900120</td>\n",
              "      <td>-0.015503</td>\n",
              "    </tr>\n",
              "    <tr>\n",
              "      <th>2021-05-19</th>\n",
              "      <td>2.265605</td>\n",
              "      <td>0.103637</td>\n",
              "      <td>0.736993</td>\n",
              "      <td>0.270869</td>\n",
              "    </tr>\n",
              "  </tbody>\n",
              "</table>\n",
              "</div>"
            ],
            "text/plain": [
              "                   A         B         C         D\n",
              "2021-05-14  0.602186  1.204132  0.359264  1.027463\n",
              "2021-05-15 -1.172688 -0.860485  0.256832  0.648323\n",
              "2021-05-16 -1.534028  0.021475 -0.363917 -1.619678\n",
              "2021-05-17  0.554636 -1.429508  0.736633 -0.679190\n",
              "2021-05-18 -0.808897  0.585424 -0.900120 -0.015503\n",
              "2021-05-19  2.265605  0.103637  0.736993  0.270869"
            ]
          },
          "metadata": {
            "tags": []
          },
          "execution_count": 5
        }
      ]
    },
    {
      "cell_type": "code",
      "metadata": {
        "colab": {
          "base_uri": "https://localhost:8080/"
        },
        "id": "3JL0SpjJL_1c",
        "outputId": "2762fa9e-fa41-486c-b465-a1e97d606e80"
      },
      "source": [
        "df.mean()"
      ],
      "execution_count": null,
      "outputs": [
        {
          "output_type": "execute_result",
          "data": {
            "text/plain": [
              "A   -0.015531\n",
              "B   -0.062554\n",
              "C    0.137614\n",
              "D   -0.061286\n",
              "dtype: float64"
            ]
          },
          "metadata": {
            "tags": []
          },
          "execution_count": 7
        }
      ]
    },
    {
      "cell_type": "code",
      "metadata": {
        "colab": {
          "base_uri": "https://localhost:8080/",
          "height": 225
        },
        "id": "UrU0HAhTMGLM",
        "outputId": "75e8d8eb-e896-4e0b-f38c-07af23316524"
      },
      "source": [
        "df.apply(np.cumsum, axis=0)"
      ],
      "execution_count": null,
      "outputs": [
        {
          "output_type": "execute_result",
          "data": {
            "text/html": [
              "<div>\n",
              "<style scoped>\n",
              "    .dataframe tbody tr th:only-of-type {\n",
              "        vertical-align: middle;\n",
              "    }\n",
              "\n",
              "    .dataframe tbody tr th {\n",
              "        vertical-align: top;\n",
              "    }\n",
              "\n",
              "    .dataframe thead th {\n",
              "        text-align: right;\n",
              "    }\n",
              "</style>\n",
              "<table border=\"1\" class=\"dataframe\">\n",
              "  <thead>\n",
              "    <tr style=\"text-align: right;\">\n",
              "      <th></th>\n",
              "      <th>A</th>\n",
              "      <th>B</th>\n",
              "      <th>C</th>\n",
              "      <th>D</th>\n",
              "    </tr>\n",
              "  </thead>\n",
              "  <tbody>\n",
              "    <tr>\n",
              "      <th>2021-05-14</th>\n",
              "      <td>0.602186</td>\n",
              "      <td>1.204132</td>\n",
              "      <td>0.359264</td>\n",
              "      <td>1.027463</td>\n",
              "    </tr>\n",
              "    <tr>\n",
              "      <th>2021-05-15</th>\n",
              "      <td>-0.570501</td>\n",
              "      <td>0.343647</td>\n",
              "      <td>0.616096</td>\n",
              "      <td>1.675787</td>\n",
              "    </tr>\n",
              "    <tr>\n",
              "      <th>2021-05-16</th>\n",
              "      <td>-2.104529</td>\n",
              "      <td>0.365121</td>\n",
              "      <td>0.252179</td>\n",
              "      <td>0.056109</td>\n",
              "    </tr>\n",
              "    <tr>\n",
              "      <th>2021-05-17</th>\n",
              "      <td>-1.549893</td>\n",
              "      <td>-1.064387</td>\n",
              "      <td>0.988812</td>\n",
              "      <td>-0.623081</td>\n",
              "    </tr>\n",
              "    <tr>\n",
              "      <th>2021-05-18</th>\n",
              "      <td>-2.358791</td>\n",
              "      <td>-0.478963</td>\n",
              "      <td>0.088691</td>\n",
              "      <td>-0.638585</td>\n",
              "    </tr>\n",
              "    <tr>\n",
              "      <th>2021-05-19</th>\n",
              "      <td>-0.093186</td>\n",
              "      <td>-0.375326</td>\n",
              "      <td>0.825685</td>\n",
              "      <td>-0.367715</td>\n",
              "    </tr>\n",
              "  </tbody>\n",
              "</table>\n",
              "</div>"
            ],
            "text/plain": [
              "                   A         B         C         D\n",
              "2021-05-14  0.602186  1.204132  0.359264  1.027463\n",
              "2021-05-15 -0.570501  0.343647  0.616096  1.675787\n",
              "2021-05-16 -2.104529  0.365121  0.252179  0.056109\n",
              "2021-05-17 -1.549893 -1.064387  0.988812 -0.623081\n",
              "2021-05-18 -2.358791 -0.478963  0.088691 -0.638585\n",
              "2021-05-19 -0.093186 -0.375326  0.825685 -0.367715"
            ]
          },
          "metadata": {
            "tags": []
          },
          "execution_count": 9
        }
      ]
    },
    {
      "cell_type": "code",
      "metadata": {
        "colab": {
          "base_uri": "https://localhost:8080/"
        },
        "id": "osIS0DJ5NaUr",
        "outputId": "394a7760-9577-403a-9c65-c0997bd5667c"
      },
      "source": [
        "print(df.apply(lambda x: x.max() - x.min()))"
      ],
      "execution_count": null,
      "outputs": [
        {
          "output_type": "stream",
          "text": [
            "A    3.799632\n",
            "B    2.633640\n",
            "C    1.637114\n",
            "D    2.647142\n",
            "dtype: float64\n"
          ],
          "name": "stdout"
        }
      ]
    },
    {
      "cell_type": "code",
      "metadata": {
        "colab": {
          "base_uri": "https://localhost:8080/"
        },
        "id": "fY74higHOjf8",
        "outputId": "35f46ea9-c4cd-4e51-b780-0c7e6721ebff"
      },
      "source": [
        "s = pd.Series(np.random.randint(1, 7, size = 600))\n",
        "s.value_counts()"
      ],
      "execution_count": null,
      "outputs": [
        {
          "output_type": "execute_result",
          "data": {
            "text/plain": [
              "4    14\n",
              "1    13\n",
              "5    12\n",
              "3    11\n",
              "2    10\n",
              "dtype: int64"
            ]
          },
          "metadata": {
            "tags": []
          },
          "execution_count": 20
        }
      ]
    },
    {
      "cell_type": "code",
      "metadata": {
        "id": "Fh-IFixgPeQr"
      },
      "source": [
        "df = pd.DataFrame(np.random.randn(10, 4)) "
      ],
      "execution_count": null,
      "outputs": []
    },
    {
      "cell_type": "code",
      "metadata": {
        "id": "_t0vtW8OQAKa"
      },
      "source": [
        "pieces = [df[:3], df[3:7], df[7:]]"
      ],
      "execution_count": null,
      "outputs": []
    },
    {
      "cell_type": "code",
      "metadata": {
        "colab": {
          "base_uri": "https://localhost:8080/",
          "height": 166
        },
        "id": "RAbIQbacQWh6",
        "outputId": "032b2805-96cb-4e49-ae16-1af76e31340e"
      },
      "source": [
        " df[3:7]"
      ],
      "execution_count": null,
      "outputs": [
        {
          "output_type": "execute_result",
          "data": {
            "text/html": [
              "<div>\n",
              "<style scoped>\n",
              "    .dataframe tbody tr th:only-of-type {\n",
              "        vertical-align: middle;\n",
              "    }\n",
              "\n",
              "    .dataframe tbody tr th {\n",
              "        vertical-align: top;\n",
              "    }\n",
              "\n",
              "    .dataframe thead th {\n",
              "        text-align: right;\n",
              "    }\n",
              "</style>\n",
              "<table border=\"1\" class=\"dataframe\">\n",
              "  <thead>\n",
              "    <tr style=\"text-align: right;\">\n",
              "      <th></th>\n",
              "      <th>0</th>\n",
              "      <th>1</th>\n",
              "      <th>2</th>\n",
              "      <th>3</th>\n",
              "    </tr>\n",
              "  </thead>\n",
              "  <tbody>\n",
              "    <tr>\n",
              "      <th>3</th>\n",
              "      <td>0.822280</td>\n",
              "      <td>1.461629</td>\n",
              "      <td>2.882080</td>\n",
              "      <td>-0.586220</td>\n",
              "    </tr>\n",
              "    <tr>\n",
              "      <th>4</th>\n",
              "      <td>0.729405</td>\n",
              "      <td>0.408332</td>\n",
              "      <td>-1.383651</td>\n",
              "      <td>-1.394936</td>\n",
              "    </tr>\n",
              "    <tr>\n",
              "      <th>5</th>\n",
              "      <td>-1.030120</td>\n",
              "      <td>-0.049348</td>\n",
              "      <td>0.996634</td>\n",
              "      <td>0.384273</td>\n",
              "    </tr>\n",
              "    <tr>\n",
              "      <th>6</th>\n",
              "      <td>-1.411665</td>\n",
              "      <td>-1.295511</td>\n",
              "      <td>-0.144512</td>\n",
              "      <td>1.636742</td>\n",
              "    </tr>\n",
              "  </tbody>\n",
              "</table>\n",
              "</div>"
            ],
            "text/plain": [
              "          0         1         2         3\n",
              "3  0.822280  1.461629  2.882080 -0.586220\n",
              "4  0.729405  0.408332 -1.383651 -1.394936\n",
              "5 -1.030120 -0.049348  0.996634  0.384273\n",
              "6 -1.411665 -1.295511 -0.144512  1.636742"
            ]
          },
          "metadata": {
            "tags": []
          },
          "execution_count": 24
        }
      ]
    },
    {
      "cell_type": "code",
      "metadata": {
        "colab": {
          "base_uri": "https://localhost:8080/",
          "height": 136
        },
        "id": "xKeX2ncmQY-Z",
        "outputId": "c4a4417e-b812-4c16-8d5b-d18cebadcd50"
      },
      "source": [
        "df[7:]"
      ],
      "execution_count": null,
      "outputs": [
        {
          "output_type": "execute_result",
          "data": {
            "text/html": [
              "<div>\n",
              "<style scoped>\n",
              "    .dataframe tbody tr th:only-of-type {\n",
              "        vertical-align: middle;\n",
              "    }\n",
              "\n",
              "    .dataframe tbody tr th {\n",
              "        vertical-align: top;\n",
              "    }\n",
              "\n",
              "    .dataframe thead th {\n",
              "        text-align: right;\n",
              "    }\n",
              "</style>\n",
              "<table border=\"1\" class=\"dataframe\">\n",
              "  <thead>\n",
              "    <tr style=\"text-align: right;\">\n",
              "      <th></th>\n",
              "      <th>0</th>\n",
              "      <th>1</th>\n",
              "      <th>2</th>\n",
              "      <th>3</th>\n",
              "    </tr>\n",
              "  </thead>\n",
              "  <tbody>\n",
              "    <tr>\n",
              "      <th>7</th>\n",
              "      <td>-1.918741</td>\n",
              "      <td>-1.483185</td>\n",
              "      <td>-1.020768</td>\n",
              "      <td>-0.183361</td>\n",
              "    </tr>\n",
              "    <tr>\n",
              "      <th>8</th>\n",
              "      <td>-0.761340</td>\n",
              "      <td>-0.242725</td>\n",
              "      <td>1.446460</td>\n",
              "      <td>-1.797701</td>\n",
              "    </tr>\n",
              "    <tr>\n",
              "      <th>9</th>\n",
              "      <td>-1.147833</td>\n",
              "      <td>0.061788</td>\n",
              "      <td>1.559876</td>\n",
              "      <td>-0.773886</td>\n",
              "    </tr>\n",
              "  </tbody>\n",
              "</table>\n",
              "</div>"
            ],
            "text/plain": [
              "          0         1         2         3\n",
              "7 -1.918741 -1.483185 -1.020768 -0.183361\n",
              "8 -0.761340 -0.242725  1.446460 -1.797701\n",
              "9 -1.147833  0.061788  1.559876 -0.773886"
            ]
          },
          "metadata": {
            "tags": []
          },
          "execution_count": 25
        }
      ]
    },
    {
      "cell_type": "code",
      "metadata": {
        "id": "kqIM6MHUQbAp"
      },
      "source": [
        "pieces = [df[:3], df[3:7], df[7:]]"
      ],
      "execution_count": null,
      "outputs": []
    },
    {
      "cell_type": "code",
      "metadata": {
        "colab": {
          "base_uri": "https://localhost:8080/",
          "height": 136
        },
        "id": "jH6yANT8QpSp",
        "outputId": "97412acb-c691-4082-9603-7b1ad0f792d5"
      },
      "source": [
        "pieces[0]"
      ],
      "execution_count": null,
      "outputs": [
        {
          "output_type": "execute_result",
          "data": {
            "text/html": [
              "<div>\n",
              "<style scoped>\n",
              "    .dataframe tbody tr th:only-of-type {\n",
              "        vertical-align: middle;\n",
              "    }\n",
              "\n",
              "    .dataframe tbody tr th {\n",
              "        vertical-align: top;\n",
              "    }\n",
              "\n",
              "    .dataframe thead th {\n",
              "        text-align: right;\n",
              "    }\n",
              "</style>\n",
              "<table border=\"1\" class=\"dataframe\">\n",
              "  <thead>\n",
              "    <tr style=\"text-align: right;\">\n",
              "      <th></th>\n",
              "      <th>0</th>\n",
              "      <th>1</th>\n",
              "      <th>2</th>\n",
              "      <th>3</th>\n",
              "    </tr>\n",
              "  </thead>\n",
              "  <tbody>\n",
              "    <tr>\n",
              "      <th>0</th>\n",
              "      <td>-0.474285</td>\n",
              "      <td>0.643566</td>\n",
              "      <td>0.216701</td>\n",
              "      <td>1.981105</td>\n",
              "    </tr>\n",
              "    <tr>\n",
              "      <th>1</th>\n",
              "      <td>-0.562003</td>\n",
              "      <td>-0.021431</td>\n",
              "      <td>0.004486</td>\n",
              "      <td>0.712857</td>\n",
              "    </tr>\n",
              "    <tr>\n",
              "      <th>2</th>\n",
              "      <td>0.361766</td>\n",
              "      <td>1.487499</td>\n",
              "      <td>-0.985889</td>\n",
              "      <td>0.380732</td>\n",
              "    </tr>\n",
              "  </tbody>\n",
              "</table>\n",
              "</div>"
            ],
            "text/plain": [
              "          0         1         2         3\n",
              "0 -0.474285  0.643566  0.216701  1.981105\n",
              "1 -0.562003 -0.021431  0.004486  0.712857\n",
              "2  0.361766  1.487499 -0.985889  0.380732"
            ]
          },
          "metadata": {
            "tags": []
          },
          "execution_count": 28
        }
      ]
    },
    {
      "cell_type": "code",
      "metadata": {
        "id": "F_2yb3OhRKZK"
      },
      "source": [
        "left = pd.DataFrame(\n",
        "    {\n",
        "        'key':['foo', 'foo'],\n",
        "        'lval': [1, 2]\n",
        "    }\n",
        "    )\n",
        "right = pd.DataFrame({'key':['foo', 'foo'], 'rval': [4, 5]})\n"
      ],
      "execution_count": null,
      "outputs": []
    },
    {
      "cell_type": "code",
      "metadata": {
        "colab": {
          "base_uri": "https://localhost:8080/",
          "height": 106
        },
        "id": "gMlBq0PsehZZ",
        "outputId": "06ce5e53-121f-49c3-897a-f0602eea6f96"
      },
      "source": [
        "left"
      ],
      "execution_count": null,
      "outputs": [
        {
          "output_type": "execute_result",
          "data": {
            "text/html": [
              "<div>\n",
              "<style scoped>\n",
              "    .dataframe tbody tr th:only-of-type {\n",
              "        vertical-align: middle;\n",
              "    }\n",
              "\n",
              "    .dataframe tbody tr th {\n",
              "        vertical-align: top;\n",
              "    }\n",
              "\n",
              "    .dataframe thead th {\n",
              "        text-align: right;\n",
              "    }\n",
              "</style>\n",
              "<table border=\"1\" class=\"dataframe\">\n",
              "  <thead>\n",
              "    <tr style=\"text-align: right;\">\n",
              "      <th></th>\n",
              "      <th>key</th>\n",
              "      <th>lval</th>\n",
              "    </tr>\n",
              "  </thead>\n",
              "  <tbody>\n",
              "    <tr>\n",
              "      <th>0</th>\n",
              "      <td>foo</td>\n",
              "      <td>1</td>\n",
              "    </tr>\n",
              "    <tr>\n",
              "      <th>1</th>\n",
              "      <td>foo</td>\n",
              "      <td>2</td>\n",
              "    </tr>\n",
              "  </tbody>\n",
              "</table>\n",
              "</div>"
            ],
            "text/plain": [
              "   key  lval\n",
              "0  foo     1\n",
              "1  foo     2"
            ]
          },
          "metadata": {
            "tags": []
          },
          "execution_count": 31
        }
      ]
    },
    {
      "cell_type": "code",
      "metadata": {
        "colab": {
          "base_uri": "https://localhost:8080/",
          "height": 106
        },
        "id": "_qXmPZCLeqW-",
        "outputId": "79fd6b68-97d5-463f-fc27-cc647cdd88f0"
      },
      "source": [
        "right"
      ],
      "execution_count": null,
      "outputs": [
        {
          "output_type": "execute_result",
          "data": {
            "text/html": [
              "<div>\n",
              "<style scoped>\n",
              "    .dataframe tbody tr th:only-of-type {\n",
              "        vertical-align: middle;\n",
              "    }\n",
              "\n",
              "    .dataframe tbody tr th {\n",
              "        vertical-align: top;\n",
              "    }\n",
              "\n",
              "    .dataframe thead th {\n",
              "        text-align: right;\n",
              "    }\n",
              "</style>\n",
              "<table border=\"1\" class=\"dataframe\">\n",
              "  <thead>\n",
              "    <tr style=\"text-align: right;\">\n",
              "      <th></th>\n",
              "      <th>key</th>\n",
              "      <th>rval</th>\n",
              "    </tr>\n",
              "  </thead>\n",
              "  <tbody>\n",
              "    <tr>\n",
              "      <th>0</th>\n",
              "      <td>foo</td>\n",
              "      <td>4</td>\n",
              "    </tr>\n",
              "    <tr>\n",
              "      <th>1</th>\n",
              "      <td>foo</td>\n",
              "      <td>5</td>\n",
              "    </tr>\n",
              "  </tbody>\n",
              "</table>\n",
              "</div>"
            ],
            "text/plain": [
              "   key  rval\n",
              "0  foo     4\n",
              "1  foo     5"
            ]
          },
          "metadata": {
            "tags": []
          },
          "execution_count": 32
        }
      ]
    },
    {
      "cell_type": "code",
      "metadata": {
        "id": "In1TqOzCe5gn"
      },
      "source": [
        "pd_merge = pd.merge(left, right, on = 'key')"
      ],
      "execution_count": null,
      "outputs": []
    },
    {
      "cell_type": "code",
      "metadata": {
        "colab": {
          "base_uri": "https://localhost:8080/",
          "height": 343
        },
        "id": "PMv9xX5CfNhn",
        "outputId": "d9585501-caad-41e6-ba8d-e4ccb285bfd7"
      },
      "source": [
        "df"
      ],
      "execution_count": null,
      "outputs": [
        {
          "output_type": "execute_result",
          "data": {
            "text/html": [
              "<div>\n",
              "<style scoped>\n",
              "    .dataframe tbody tr th:only-of-type {\n",
              "        vertical-align: middle;\n",
              "    }\n",
              "\n",
              "    .dataframe tbody tr th {\n",
              "        vertical-align: top;\n",
              "    }\n",
              "\n",
              "    .dataframe thead th {\n",
              "        text-align: right;\n",
              "    }\n",
              "</style>\n",
              "<table border=\"1\" class=\"dataframe\">\n",
              "  <thead>\n",
              "    <tr style=\"text-align: right;\">\n",
              "      <th></th>\n",
              "      <th>0</th>\n",
              "      <th>1</th>\n",
              "      <th>2</th>\n",
              "      <th>3</th>\n",
              "    </tr>\n",
              "  </thead>\n",
              "  <tbody>\n",
              "    <tr>\n",
              "      <th>0</th>\n",
              "      <td>-0.474285</td>\n",
              "      <td>0.643566</td>\n",
              "      <td>0.216701</td>\n",
              "      <td>1.981105</td>\n",
              "    </tr>\n",
              "    <tr>\n",
              "      <th>1</th>\n",
              "      <td>-0.562003</td>\n",
              "      <td>-0.021431</td>\n",
              "      <td>0.004486</td>\n",
              "      <td>0.712857</td>\n",
              "    </tr>\n",
              "    <tr>\n",
              "      <th>2</th>\n",
              "      <td>0.361766</td>\n",
              "      <td>1.487499</td>\n",
              "      <td>-0.985889</td>\n",
              "      <td>0.380732</td>\n",
              "    </tr>\n",
              "    <tr>\n",
              "      <th>3</th>\n",
              "      <td>0.822280</td>\n",
              "      <td>1.461629</td>\n",
              "      <td>2.882080</td>\n",
              "      <td>-0.586220</td>\n",
              "    </tr>\n",
              "    <tr>\n",
              "      <th>4</th>\n",
              "      <td>0.729405</td>\n",
              "      <td>0.408332</td>\n",
              "      <td>-1.383651</td>\n",
              "      <td>-1.394936</td>\n",
              "    </tr>\n",
              "    <tr>\n",
              "      <th>5</th>\n",
              "      <td>-1.030120</td>\n",
              "      <td>-0.049348</td>\n",
              "      <td>0.996634</td>\n",
              "      <td>0.384273</td>\n",
              "    </tr>\n",
              "    <tr>\n",
              "      <th>6</th>\n",
              "      <td>-1.411665</td>\n",
              "      <td>-1.295511</td>\n",
              "      <td>-0.144512</td>\n",
              "      <td>1.636742</td>\n",
              "    </tr>\n",
              "    <tr>\n",
              "      <th>7</th>\n",
              "      <td>-1.918741</td>\n",
              "      <td>-1.483185</td>\n",
              "      <td>-1.020768</td>\n",
              "      <td>-0.183361</td>\n",
              "    </tr>\n",
              "    <tr>\n",
              "      <th>8</th>\n",
              "      <td>-0.761340</td>\n",
              "      <td>-0.242725</td>\n",
              "      <td>1.446460</td>\n",
              "      <td>-1.797701</td>\n",
              "    </tr>\n",
              "    <tr>\n",
              "      <th>9</th>\n",
              "      <td>-1.147833</td>\n",
              "      <td>0.061788</td>\n",
              "      <td>1.559876</td>\n",
              "      <td>-0.773886</td>\n",
              "    </tr>\n",
              "  </tbody>\n",
              "</table>\n",
              "</div>"
            ],
            "text/plain": [
              "          0         1         2         3\n",
              "0 -0.474285  0.643566  0.216701  1.981105\n",
              "1 -0.562003 -0.021431  0.004486  0.712857\n",
              "2  0.361766  1.487499 -0.985889  0.380732\n",
              "3  0.822280  1.461629  2.882080 -0.586220\n",
              "4  0.729405  0.408332 -1.383651 -1.394936\n",
              "5 -1.030120 -0.049348  0.996634  0.384273\n",
              "6 -1.411665 -1.295511 -0.144512  1.636742\n",
              "7 -1.918741 -1.483185 -1.020768 -0.183361\n",
              "8 -0.761340 -0.242725  1.446460 -1.797701\n",
              "9 -1.147833  0.061788  1.559876 -0.773886"
            ]
          },
          "metadata": {
            "tags": []
          },
          "execution_count": 36
        }
      ]
    },
    {
      "cell_type": "code",
      "metadata": {
        "colab": {
          "base_uri": "https://localhost:8080/"
        },
        "id": "bVNVocV8e6qW",
        "outputId": "b34839de-27bb-4a40-a763-5f2131878f79"
      },
      "source": [
        "s = df.iloc[3]\n",
        "s"
      ],
      "execution_count": null,
      "outputs": [
        {
          "output_type": "execute_result",
          "data": {
            "text/plain": [
              "0    0.822280\n",
              "1    1.461629\n",
              "2    2.882080\n",
              "3   -0.586220\n",
              "Name: 3, dtype: float64"
            ]
          },
          "metadata": {
            "tags": []
          },
          "execution_count": 38
        }
      ]
    },
    {
      "cell_type": "code",
      "metadata": {
        "id": "fuE1mv19fRMH"
      },
      "source": [
        "print(df.append(s, ignore_index=True))"
      ],
      "execution_count": null,
      "outputs": []
    }
  ]
}
{
  "nbformat": 4,
  "nbformat_minor": 0,
  "metadata": {
    "colab": {
      "name": "12주차실습.ipynb",
      "provenance": [],
      "authorship_tag": "ABX9TyN/HP3jkuC+03Eifm997c7s",
      "include_colab_link": true
    },
    "kernelspec": {
      "name": "python3",
      "display_name": "Python 3"
    },
    "language_info": {
      "name": "python"
    }
  },
  "cells": [
    {
      "cell_type": "markdown",
      "metadata": {
        "id": "view-in-github",
        "colab_type": "text"
      },
      "source": [
        "<a href=\"https://colab.research.google.com/github/21501/bmt_python/blob/main/12%EC%A3%BC%EC%B0%A8%EC%8B%A4%EC%8A%B5.ipynb\" target=\"_parent\"><img src=\"https://colab.research.google.com/assets/colab-badge.svg\" alt=\"Open In Colab\"/></a>"
      ]
    },
    {
      "cell_type": "code",
      "metadata": {
        "id": "iF1lJailNiY8"
      },
      "source": [
        "import pandas as pd\n",
        "import numpy as np\n",
        "import matplotlib.pyplot as plt"
      ],
      "execution_count": 9,
      "outputs": []
    },
    {
      "cell_type": "code",
      "metadata": {
        "id": "sYxErv8kN4We"
      },
      "source": [
        "dates = pd.date_range('20210521', periods=6)"
      ],
      "execution_count": 11,
      "outputs": []
    },
    {
      "cell_type": "code",
      "metadata": {
        "id": "0D9hzak5OWWH"
      },
      "source": [
        "df = pd.DataFrame(np.random.randn(6,4), index=dates, columns=list('ABCD'))"
      ],
      "execution_count": 13,
      "outputs": []
    },
    {
      "cell_type": "code",
      "metadata": {
        "id": "9L_4SrJ5O6Z_"
      },
      "source": [
        "s= pd.series(np.random.randint(1,7, size=100))\n",
        "s"
      ],
      "execution_count": null,
      "outputs": []
    },
    {
      "cell_type": "code",
      "metadata": {
        "id": "ZVG-DHK6PgZy"
      },
      "source": [
        "s.value_counts()"
      ],
      "execution_count": null,
      "outputs": []
    },
    {
      "cell_type": "code",
      "metadata": {
        "id": "lQRGsdV9Pnkh"
      },
      "source": [
        "s.plot()"
      ],
      "execution_count": null,
      "outputs": []
    },
    {
      "cell_type": "code",
      "metadata": {
        "id": "lydtY8O_PsvU"
      },
      "source": [
        "df = pd.DataFrame(np.random.randn(10, 4))"
      ],
      "execution_count": null,
      "outputs": []
    },
    {
      "cell_type": "code",
      "metadata": {
        "id": "fAXLt7D0QBDx"
      },
      "source": [
        "df[:3]"
      ],
      "execution_count": null,
      "outputs": []
    },
    {
      "cell_type": "code",
      "metadata": {
        "id": "xLYKJRC8QJIZ"
      },
      "source": [
        "df[7:]"
      ],
      "execution_count": null,
      "outputs": []
    },
    {
      "cell_type": "code",
      "metadata": {
        "id": "P4DEEBjuQJgs"
      },
      "source": [
        "pieces = [ df[:3]  ]"
      ],
      "execution_count": null,
      "outputs": []
    },
    {
      "cell_type": "code",
      "metadata": {
        "id": "NhA90NVaQJi7"
      },
      "source": [
        "print(pd.concat(pieces))"
      ],
      "execution_count": 5,
      "outputs": []
    },
    {
      "cell_type": "code",
      "metadata": {
        "id": "zu5uzT-6QJlZ"
      },
      "source": [
        "left = pd.DataFrame({'key':['foo', 'foo'], 'lval': [1, 2]})\n",
        "right = pd.DataFrame({'key':['foo', 'foo'], 'rval': [4, 5]})"
      ],
      "execution_count": null,
      "outputs": []
    },
    {
      "cell_type": "code",
      "metadata": {
        "id": "TvjU2GLsQJoC"
      },
      "source": [
        "left"
      ],
      "execution_count": null,
      "outputs": []
    },
    {
      "cell_type": "code",
      "metadata": {
        "id": "EkO5jZTyQJqW"
      },
      "source": [
        "right"
      ],
      "execution_count": null,
      "outputs": []
    },
    {
      "cell_type": "code",
      "metadata": {
        "id": "w8jkoNQ4S_0Y"
      },
      "source": [
        "pd_merge = pd.merge(left, right, on = 'key')\n",
        "pd_merge"
      ],
      "execution_count": null,
      "outputs": []
    },
    {
      "cell_type": "code",
      "metadata": {
        "id": "7h8tmVQ9TYCc"
      },
      "source": [
        "pd_merge = pd.merge(rigth, left, on = 'key')\n",
        "pd_merge"
      ],
      "execution_count": null,
      "outputs": []
    },
    {
      "cell_type": "code",
      "metadata": {
        "id": "K-cHDQWfTYFH"
      },
      "source": [
        "df = pd.DataFrame(np.random.randn(8, 4), columns=['A', 'B', 'C', 'D'])"
      ],
      "execution_count": null,
      "outputs": []
    },
    {
      "cell_type": "code",
      "metadata": {
        "id": "ZGneP_6xTYHl"
      },
      "source": [
        "s = df.iloc[3]"
      ],
      "execution_count": null,
      "outputs": []
    },
    {
      "cell_type": "code",
      "metadata": {
        "id": "H9dCTY8ETLQ2"
      },
      "source": [
        "print(df.append(s, ignore_index=True))"
      ],
      "execution_count": null,
      "outputs": []
    },
    {
      "cell_type": "code",
      "metadata": {
        "id": "tgG3umzlUNeu"
      },
      "source": [
        "df = pd.DataFrame(\n",
        "    {\n",
        "        'A' : ['foo', 'bar', 'foo', 'bar', 'foo', 'bar', 'foo', 'bar'],\n",
        "        'B' : ['one', 'one', 'two', 'three', 'two', 'two', 'one', 'three'],\n",
        "        'C' : np.random.randn(8),\n",
        "        'D' : np.random.randn(8)\n",
        "    }\n",
        ")"
      ],
      "execution_count": 17,
      "outputs": []
    },
    {
      "cell_type": "code",
      "metadata": {
        "colab": {
          "base_uri": "https://localhost:8080/",
          "height": 287
        },
        "id": "EPFjzcmwUNhl",
        "outputId": "a0025be4-a387-4ba6-89ac-489a66be3c09"
      },
      "source": [
        "df"
      ],
      "execution_count": 18,
      "outputs": [
        {
          "output_type": "execute_result",
          "data": {
            "text/html": [
              "<div>\n",
              "<style scoped>\n",
              "    .dataframe tbody tr th:only-of-type {\n",
              "        vertical-align: middle;\n",
              "    }\n",
              "\n",
              "    .dataframe tbody tr th {\n",
              "        vertical-align: top;\n",
              "    }\n",
              "\n",
              "    .dataframe thead th {\n",
              "        text-align: right;\n",
              "    }\n",
              "</style>\n",
              "<table border=\"1\" class=\"dataframe\">\n",
              "  <thead>\n",
              "    <tr style=\"text-align: right;\">\n",
              "      <th></th>\n",
              "      <th>A</th>\n",
              "      <th>B</th>\n",
              "      <th>C</th>\n",
              "      <th>D</th>\n",
              "    </tr>\n",
              "  </thead>\n",
              "  <tbody>\n",
              "    <tr>\n",
              "      <th>0</th>\n",
              "      <td>foo</td>\n",
              "      <td>one</td>\n",
              "      <td>0.114167</td>\n",
              "      <td>-0.876763</td>\n",
              "    </tr>\n",
              "    <tr>\n",
              "      <th>1</th>\n",
              "      <td>bar</td>\n",
              "      <td>one</td>\n",
              "      <td>0.121744</td>\n",
              "      <td>1.359841</td>\n",
              "    </tr>\n",
              "    <tr>\n",
              "      <th>2</th>\n",
              "      <td>foo</td>\n",
              "      <td>two</td>\n",
              "      <td>0.052769</td>\n",
              "      <td>0.190298</td>\n",
              "    </tr>\n",
              "    <tr>\n",
              "      <th>3</th>\n",
              "      <td>bar</td>\n",
              "      <td>three</td>\n",
              "      <td>-1.537243</td>\n",
              "      <td>-0.261849</td>\n",
              "    </tr>\n",
              "    <tr>\n",
              "      <th>4</th>\n",
              "      <td>foo</td>\n",
              "      <td>two</td>\n",
              "      <td>-0.048072</td>\n",
              "      <td>0.219205</td>\n",
              "    </tr>\n",
              "    <tr>\n",
              "      <th>5</th>\n",
              "      <td>bar</td>\n",
              "      <td>two</td>\n",
              "      <td>0.219658</td>\n",
              "      <td>-0.942144</td>\n",
              "    </tr>\n",
              "    <tr>\n",
              "      <th>6</th>\n",
              "      <td>foo</td>\n",
              "      <td>one</td>\n",
              "      <td>0.769472</td>\n",
              "      <td>-0.194409</td>\n",
              "    </tr>\n",
              "    <tr>\n",
              "      <th>7</th>\n",
              "      <td>bar</td>\n",
              "      <td>three</td>\n",
              "      <td>-0.421212</td>\n",
              "      <td>0.874174</td>\n",
              "    </tr>\n",
              "  </tbody>\n",
              "</table>\n",
              "</div>"
            ],
            "text/plain": [
              "     A      B         C         D\n",
              "0  foo    one  0.114167 -0.876763\n",
              "1  bar    one  0.121744  1.359841\n",
              "2  foo    two  0.052769  0.190298\n",
              "3  bar  three -1.537243 -0.261849\n",
              "4  foo    two -0.048072  0.219205\n",
              "5  bar    two  0.219658 -0.942144\n",
              "6  foo    one  0.769472 -0.194409\n",
              "7  bar  three -0.421212  0.874174"
            ]
          },
          "metadata": {
            "tags": []
          },
          "execution_count": 18
        }
      ]
    },
    {
      "cell_type": "code",
      "metadata": {
        "colab": {
          "base_uri": "https://localhost:8080/",
          "height": 137
        },
        "id": "FomhrLCIUNkY",
        "outputId": "1214517d-c6fc-4dbc-e61c-66f3fad78ca6"
      },
      "source": [
        " df.groupby('A').sum()"
      ],
      "execution_count": 19,
      "outputs": [
        {
          "output_type": "execute_result",
          "data": {
            "text/html": [
              "<div>\n",
              "<style scoped>\n",
              "    .dataframe tbody tr th:only-of-type {\n",
              "        vertical-align: middle;\n",
              "    }\n",
              "\n",
              "    .dataframe tbody tr th {\n",
              "        vertical-align: top;\n",
              "    }\n",
              "\n",
              "    .dataframe thead th {\n",
              "        text-align: right;\n",
              "    }\n",
              "</style>\n",
              "<table border=\"1\" class=\"dataframe\">\n",
              "  <thead>\n",
              "    <tr style=\"text-align: right;\">\n",
              "      <th></th>\n",
              "      <th>C</th>\n",
              "      <th>D</th>\n",
              "    </tr>\n",
              "    <tr>\n",
              "      <th>A</th>\n",
              "      <th></th>\n",
              "      <th></th>\n",
              "    </tr>\n",
              "  </thead>\n",
              "  <tbody>\n",
              "    <tr>\n",
              "      <th>bar</th>\n",
              "      <td>-1.617053</td>\n",
              "      <td>1.030021</td>\n",
              "    </tr>\n",
              "    <tr>\n",
              "      <th>foo</th>\n",
              "      <td>0.888336</td>\n",
              "      <td>-0.661669</td>\n",
              "    </tr>\n",
              "  </tbody>\n",
              "</table>\n",
              "</div>"
            ],
            "text/plain": [
              "            C         D\n",
              "A                      \n",
              "bar -1.617053  1.030021\n",
              "foo  0.888336 -0.661669"
            ]
          },
          "metadata": {
            "tags": []
          },
          "execution_count": 19
        }
      ]
    },
    {
      "cell_type": "code",
      "metadata": {
        "colab": {
          "base_uri": "https://localhost:8080/",
          "height": 227
        },
        "id": "xGc6oaHgUNnW",
        "outputId": "2f64e733-3f75-4fc9-a83f-5547bd315d84"
      },
      "source": [
        "df.groupby(['A', 'B']).sum()"
      ],
      "execution_count": 20,
      "outputs": [
        {
          "output_type": "execute_result",
          "data": {
            "text/html": [
              "<div>\n",
              "<style scoped>\n",
              "    .dataframe tbody tr th:only-of-type {\n",
              "        vertical-align: middle;\n",
              "    }\n",
              "\n",
              "    .dataframe tbody tr th {\n",
              "        vertical-align: top;\n",
              "    }\n",
              "\n",
              "    .dataframe thead th {\n",
              "        text-align: right;\n",
              "    }\n",
              "</style>\n",
              "<table border=\"1\" class=\"dataframe\">\n",
              "  <thead>\n",
              "    <tr style=\"text-align: right;\">\n",
              "      <th></th>\n",
              "      <th></th>\n",
              "      <th>C</th>\n",
              "      <th>D</th>\n",
              "    </tr>\n",
              "    <tr>\n",
              "      <th>A</th>\n",
              "      <th>B</th>\n",
              "      <th></th>\n",
              "      <th></th>\n",
              "    </tr>\n",
              "  </thead>\n",
              "  <tbody>\n",
              "    <tr>\n",
              "      <th rowspan=\"3\" valign=\"top\">bar</th>\n",
              "      <th>one</th>\n",
              "      <td>0.121744</td>\n",
              "      <td>1.359841</td>\n",
              "    </tr>\n",
              "    <tr>\n",
              "      <th>three</th>\n",
              "      <td>-1.958455</td>\n",
              "      <td>0.612325</td>\n",
              "    </tr>\n",
              "    <tr>\n",
              "      <th>two</th>\n",
              "      <td>0.219658</td>\n",
              "      <td>-0.942144</td>\n",
              "    </tr>\n",
              "    <tr>\n",
              "      <th rowspan=\"2\" valign=\"top\">foo</th>\n",
              "      <th>one</th>\n",
              "      <td>0.883639</td>\n",
              "      <td>-1.071172</td>\n",
              "    </tr>\n",
              "    <tr>\n",
              "      <th>two</th>\n",
              "      <td>0.004697</td>\n",
              "      <td>0.409503</td>\n",
              "    </tr>\n",
              "  </tbody>\n",
              "</table>\n",
              "</div>"
            ],
            "text/plain": [
              "                  C         D\n",
              "A   B                        \n",
              "bar one    0.121744  1.359841\n",
              "    three -1.958455  0.612325\n",
              "    two    0.219658 -0.942144\n",
              "foo one    0.883639 -1.071172\n",
              "    two    0.004697  0.409503"
            ]
          },
          "metadata": {
            "tags": []
          },
          "execution_count": 20
        }
      ]
    },
    {
      "cell_type": "code",
      "metadata": {
        "id": "OTkh957xUODS"
      },
      "source": [
        "x = [1, 2, 3]\n",
        "y = [4, 5, 6]"
      ],
      "execution_count": 21,
      "outputs": []
    },
    {
      "cell_type": "code",
      "metadata": {
        "colab": {
          "base_uri": "https://localhost:8080/"
        },
        "id": "KZ3WJtWPX0L7",
        "outputId": "0791b50a-5fd7-43f3-d3b7-3ca2665589c4"
      },
      "source": [
        "x"
      ],
      "execution_count": 22,
      "outputs": [
        {
          "output_type": "execute_result",
          "data": {
            "text/plain": [
              "[1, 2, 3]"
            ]
          },
          "metadata": {
            "tags": []
          },
          "execution_count": 22
        }
      ]
    },
    {
      "cell_type": "code",
      "metadata": {
        "colab": {
          "base_uri": "https://localhost:8080/"
        },
        "id": "QA-oqJ7wX0Nq",
        "outputId": "d6ba75ef-5f40-480f-e737-35b1b0a11b69"
      },
      "source": [
        "y"
      ],
      "execution_count": 23,
      "outputs": [
        {
          "output_type": "execute_result",
          "data": {
            "text/plain": [
              "[4, 5, 6]"
            ]
          },
          "metadata": {
            "tags": []
          },
          "execution_count": 23
        }
      ]
    },
    {
      "cell_type": "code",
      "metadata": {
        "id": "-xAYbs4cX2P6"
      },
      "source": [
        "zipped = zip(x,y)"
      ],
      "execution_count": 25,
      "outputs": []
    },
    {
      "cell_type": "code",
      "metadata": {
        "colab": {
          "base_uri": "https://localhost:8080/"
        },
        "id": "plTld2wfX2Sh",
        "outputId": "5bdc8169-ba92-41d8-d132-8f83d4e644b2"
      },
      "source": [
        "list(zipped)"
      ],
      "execution_count": 26,
      "outputs": [
        {
          "output_type": "execute_result",
          "data": {
            "text/plain": [
              "[(1, 4), (2, 5), (3, 6)]"
            ]
          },
          "metadata": {
            "tags": []
          },
          "execution_count": 26
        }
      ]
    },
    {
      "cell_type": "code",
      "metadata": {
        "id": "16vapPr-YI6l"
      },
      "source": [
        "x2, y2 = zip(*zip(x,y))"
      ],
      "execution_count": 27,
      "outputs": []
    },
    {
      "cell_type": "code",
      "metadata": {
        "colab": {
          "base_uri": "https://localhost:8080/"
        },
        "id": "HWM7X_aGX2XH",
        "outputId": "1ea0afc8-9b9d-48ef-8566-962dd0b2b931"
      },
      "source": [
        "x2"
      ],
      "execution_count": 28,
      "outputs": [
        {
          "output_type": "execute_result",
          "data": {
            "text/plain": [
              "(1, 2, 3)"
            ]
          },
          "metadata": {
            "tags": []
          },
          "execution_count": 28
        }
      ]
    },
    {
      "cell_type": "code",
      "metadata": {
        "colab": {
          "base_uri": "https://localhost:8080/"
        },
        "id": "JiHqyeuGX2VJ",
        "outputId": "f14b33f3-b2c6-4890-b46e-013e15e21f50"
      },
      "source": [
        "y2"
      ],
      "execution_count": 29,
      "outputs": [
        {
          "output_type": "execute_result",
          "data": {
            "text/plain": [
              "(4, 5, 6)"
            ]
          },
          "metadata": {
            "tags": []
          },
          "execution_count": 29
        }
      ]
    },
    {
      "cell_type": "code",
      "metadata": {
        "id": "_r5CasdFZdOb"
      },
      "source": [
        "df = pd.DataFrame(\n",
        "    {\n",
        "        'A' : ['one', 'one', 'two', 'three'] * 3,\n",
        "        'B' : ['A', 'B', 'C'] * 4,\n",
        "        'C' : ['foo', 'foo', 'foo', 'bar', 'bar', 'bar' ] * 2,\n",
        "        'D' : np.random.randn(12),\n",
        "        'E' : np.random.randn(12)\n",
        "    }\n",
        ")"
      ],
      "execution_count": 31,
      "outputs": []
    },
    {
      "cell_type": "code",
      "metadata": {
        "colab": {
          "base_uri": "https://localhost:8080/",
          "height": 407
        },
        "id": "jTHNb_C3ZdXx",
        "outputId": "da9939b9-0b94-45e5-b131-3d2f1c8729f7"
      },
      "source": [
        "df"
      ],
      "execution_count": 32,
      "outputs": [
        {
          "output_type": "execute_result",
          "data": {
            "text/html": [
              "<div>\n",
              "<style scoped>\n",
              "    .dataframe tbody tr th:only-of-type {\n",
              "        vertical-align: middle;\n",
              "    }\n",
              "\n",
              "    .dataframe tbody tr th {\n",
              "        vertical-align: top;\n",
              "    }\n",
              "\n",
              "    .dataframe thead th {\n",
              "        text-align: right;\n",
              "    }\n",
              "</style>\n",
              "<table border=\"1\" class=\"dataframe\">\n",
              "  <thead>\n",
              "    <tr style=\"text-align: right;\">\n",
              "      <th></th>\n",
              "      <th>A</th>\n",
              "      <th>B</th>\n",
              "      <th>C</th>\n",
              "      <th>D</th>\n",
              "      <th>E</th>\n",
              "    </tr>\n",
              "  </thead>\n",
              "  <tbody>\n",
              "    <tr>\n",
              "      <th>0</th>\n",
              "      <td>one</td>\n",
              "      <td>A</td>\n",
              "      <td>foo</td>\n",
              "      <td>0.436644</td>\n",
              "      <td>-0.854580</td>\n",
              "    </tr>\n",
              "    <tr>\n",
              "      <th>1</th>\n",
              "      <td>one</td>\n",
              "      <td>B</td>\n",
              "      <td>foo</td>\n",
              "      <td>1.343559</td>\n",
              "      <td>0.006102</td>\n",
              "    </tr>\n",
              "    <tr>\n",
              "      <th>2</th>\n",
              "      <td>two</td>\n",
              "      <td>C</td>\n",
              "      <td>foo</td>\n",
              "      <td>0.272723</td>\n",
              "      <td>0.031277</td>\n",
              "    </tr>\n",
              "    <tr>\n",
              "      <th>3</th>\n",
              "      <td>three</td>\n",
              "      <td>A</td>\n",
              "      <td>bar</td>\n",
              "      <td>-1.215349</td>\n",
              "      <td>1.351123</td>\n",
              "    </tr>\n",
              "    <tr>\n",
              "      <th>4</th>\n",
              "      <td>one</td>\n",
              "      <td>B</td>\n",
              "      <td>bar</td>\n",
              "      <td>-1.518365</td>\n",
              "      <td>-0.514930</td>\n",
              "    </tr>\n",
              "    <tr>\n",
              "      <th>5</th>\n",
              "      <td>one</td>\n",
              "      <td>C</td>\n",
              "      <td>bar</td>\n",
              "      <td>0.008645</td>\n",
              "      <td>-1.140428</td>\n",
              "    </tr>\n",
              "    <tr>\n",
              "      <th>6</th>\n",
              "      <td>two</td>\n",
              "      <td>A</td>\n",
              "      <td>foo</td>\n",
              "      <td>0.909175</td>\n",
              "      <td>-0.185494</td>\n",
              "    </tr>\n",
              "    <tr>\n",
              "      <th>7</th>\n",
              "      <td>three</td>\n",
              "      <td>B</td>\n",
              "      <td>foo</td>\n",
              "      <td>0.397722</td>\n",
              "      <td>1.098249</td>\n",
              "    </tr>\n",
              "    <tr>\n",
              "      <th>8</th>\n",
              "      <td>one</td>\n",
              "      <td>C</td>\n",
              "      <td>foo</td>\n",
              "      <td>0.924670</td>\n",
              "      <td>-0.338116</td>\n",
              "    </tr>\n",
              "    <tr>\n",
              "      <th>9</th>\n",
              "      <td>one</td>\n",
              "      <td>A</td>\n",
              "      <td>bar</td>\n",
              "      <td>-0.283725</td>\n",
              "      <td>0.078832</td>\n",
              "    </tr>\n",
              "    <tr>\n",
              "      <th>10</th>\n",
              "      <td>two</td>\n",
              "      <td>B</td>\n",
              "      <td>bar</td>\n",
              "      <td>1.052695</td>\n",
              "      <td>2.042974</td>\n",
              "    </tr>\n",
              "    <tr>\n",
              "      <th>11</th>\n",
              "      <td>three</td>\n",
              "      <td>C</td>\n",
              "      <td>bar</td>\n",
              "      <td>0.303796</td>\n",
              "      <td>-1.208626</td>\n",
              "    </tr>\n",
              "  </tbody>\n",
              "</table>\n",
              "</div>"
            ],
            "text/plain": [
              "        A  B    C         D         E\n",
              "0     one  A  foo  0.436644 -0.854580\n",
              "1     one  B  foo  1.343559  0.006102\n",
              "2     two  C  foo  0.272723  0.031277\n",
              "3   three  A  bar -1.215349  1.351123\n",
              "4     one  B  bar -1.518365 -0.514930\n",
              "5     one  C  bar  0.008645 -1.140428\n",
              "6     two  A  foo  0.909175 -0.185494\n",
              "7   three  B  foo  0.397722  1.098249\n",
              "8     one  C  foo  0.924670 -0.338116\n",
              "9     one  A  bar -0.283725  0.078832\n",
              "10    two  B  bar  1.052695  2.042974\n",
              "11  three  C  bar  0.303796 -1.208626"
            ]
          },
          "metadata": {
            "tags": []
          },
          "execution_count": 32
        }
      ]
    },
    {
      "cell_type": "code",
      "metadata": {
        "colab": {
          "base_uri": "https://localhost:8080/",
          "height": 347
        },
        "id": "zozy4qOWZdbA",
        "outputId": "cb32857c-6df7-4347-f22d-317c1f339d00"
      },
      "source": [
        "pd.pivot_table(df, values = 'D', index = ['A', 'B'], columns = ['C'])"
      ],
      "execution_count": 33,
      "outputs": [
        {
          "output_type": "execute_result",
          "data": {
            "text/html": [
              "<div>\n",
              "<style scoped>\n",
              "    .dataframe tbody tr th:only-of-type {\n",
              "        vertical-align: middle;\n",
              "    }\n",
              "\n",
              "    .dataframe tbody tr th {\n",
              "        vertical-align: top;\n",
              "    }\n",
              "\n",
              "    .dataframe thead th {\n",
              "        text-align: right;\n",
              "    }\n",
              "</style>\n",
              "<table border=\"1\" class=\"dataframe\">\n",
              "  <thead>\n",
              "    <tr style=\"text-align: right;\">\n",
              "      <th></th>\n",
              "      <th>C</th>\n",
              "      <th>bar</th>\n",
              "      <th>foo</th>\n",
              "    </tr>\n",
              "    <tr>\n",
              "      <th>A</th>\n",
              "      <th>B</th>\n",
              "      <th></th>\n",
              "      <th></th>\n",
              "    </tr>\n",
              "  </thead>\n",
              "  <tbody>\n",
              "    <tr>\n",
              "      <th rowspan=\"3\" valign=\"top\">one</th>\n",
              "      <th>A</th>\n",
              "      <td>-0.283725</td>\n",
              "      <td>0.436644</td>\n",
              "    </tr>\n",
              "    <tr>\n",
              "      <th>B</th>\n",
              "      <td>-1.518365</td>\n",
              "      <td>1.343559</td>\n",
              "    </tr>\n",
              "    <tr>\n",
              "      <th>C</th>\n",
              "      <td>0.008645</td>\n",
              "      <td>0.924670</td>\n",
              "    </tr>\n",
              "    <tr>\n",
              "      <th rowspan=\"3\" valign=\"top\">three</th>\n",
              "      <th>A</th>\n",
              "      <td>-1.215349</td>\n",
              "      <td>NaN</td>\n",
              "    </tr>\n",
              "    <tr>\n",
              "      <th>B</th>\n",
              "      <td>NaN</td>\n",
              "      <td>0.397722</td>\n",
              "    </tr>\n",
              "    <tr>\n",
              "      <th>C</th>\n",
              "      <td>0.303796</td>\n",
              "      <td>NaN</td>\n",
              "    </tr>\n",
              "    <tr>\n",
              "      <th rowspan=\"3\" valign=\"top\">two</th>\n",
              "      <th>A</th>\n",
              "      <td>NaN</td>\n",
              "      <td>0.909175</td>\n",
              "    </tr>\n",
              "    <tr>\n",
              "      <th>B</th>\n",
              "      <td>1.052695</td>\n",
              "      <td>NaN</td>\n",
              "    </tr>\n",
              "    <tr>\n",
              "      <th>C</th>\n",
              "      <td>NaN</td>\n",
              "      <td>0.272723</td>\n",
              "    </tr>\n",
              "  </tbody>\n",
              "</table>\n",
              "</div>"
            ],
            "text/plain": [
              "C             bar       foo\n",
              "A     B                    \n",
              "one   A -0.283725  0.436644\n",
              "      B -1.518365  1.343559\n",
              "      C  0.008645  0.924670\n",
              "three A -1.215349       NaN\n",
              "      B       NaN  0.397722\n",
              "      C  0.303796       NaN\n",
              "two   A       NaN  0.909175\n",
              "      B  1.052695       NaN\n",
              "      C       NaN  0.272723"
            ]
          },
          "metadata": {
            "tags": []
          },
          "execution_count": 33
        }
      ]
    },
    {
      "cell_type": "code",
      "metadata": {
        "colab": {
          "base_uri": "https://localhost:8080/"
        },
        "id": "dlEHmuZFZddu",
        "outputId": "43bc3385-a258-4cc4-c5d9-ac1487afe107"
      },
      "source": [
        "rng = pd.date_range('05/21/2021', periods=100, freq='s')\n",
        "rng"
      ],
      "execution_count": 36,
      "outputs": [
        {
          "output_type": "execute_result",
          "data": {
            "text/plain": [
              "DatetimeIndex(['2021-05-21 00:00:00', '2021-05-21 00:05:00',\n",
              "               '2021-05-21 00:10:00', '2021-05-21 00:15:00',\n",
              "               '2021-05-21 00:20:00', '2021-05-21 00:25:00',\n",
              "               '2021-05-21 00:30:00', '2021-05-21 00:35:00',\n",
              "               '2021-05-21 00:40:00', '2021-05-21 00:45:00',\n",
              "               '2021-05-21 00:50:00', '2021-05-21 00:55:00',\n",
              "               '2021-05-21 01:00:00', '2021-05-21 01:05:00',\n",
              "               '2021-05-21 01:10:00', '2021-05-21 01:15:00',\n",
              "               '2021-05-21 01:20:00', '2021-05-21 01:25:00',\n",
              "               '2021-05-21 01:30:00', '2021-05-21 01:35:00',\n",
              "               '2021-05-21 01:40:00', '2021-05-21 01:45:00',\n",
              "               '2021-05-21 01:50:00', '2021-05-21 01:55:00',\n",
              "               '2021-05-21 02:00:00', '2021-05-21 02:05:00',\n",
              "               '2021-05-21 02:10:00', '2021-05-21 02:15:00',\n",
              "               '2021-05-21 02:20:00', '2021-05-21 02:25:00',\n",
              "               '2021-05-21 02:30:00', '2021-05-21 02:35:00',\n",
              "               '2021-05-21 02:40:00', '2021-05-21 02:45:00',\n",
              "               '2021-05-21 02:50:00', '2021-05-21 02:55:00',\n",
              "               '2021-05-21 03:00:00', '2021-05-21 03:05:00',\n",
              "               '2021-05-21 03:10:00', '2021-05-21 03:15:00',\n",
              "               '2021-05-21 03:20:00', '2021-05-21 03:25:00',\n",
              "               '2021-05-21 03:30:00', '2021-05-21 03:35:00',\n",
              "               '2021-05-21 03:40:00', '2021-05-21 03:45:00',\n",
              "               '2021-05-21 03:50:00', '2021-05-21 03:55:00',\n",
              "               '2021-05-21 04:00:00', '2021-05-21 04:05:00',\n",
              "               '2021-05-21 04:10:00', '2021-05-21 04:15:00',\n",
              "               '2021-05-21 04:20:00', '2021-05-21 04:25:00',\n",
              "               '2021-05-21 04:30:00', '2021-05-21 04:35:00',\n",
              "               '2021-05-21 04:40:00', '2021-05-21 04:45:00',\n",
              "               '2021-05-21 04:50:00', '2021-05-21 04:55:00',\n",
              "               '2021-05-21 05:00:00', '2021-05-21 05:05:00',\n",
              "               '2021-05-21 05:10:00', '2021-05-21 05:15:00',\n",
              "               '2021-05-21 05:20:00', '2021-05-21 05:25:00',\n",
              "               '2021-05-21 05:30:00', '2021-05-21 05:35:00',\n",
              "               '2021-05-21 05:40:00', '2021-05-21 05:45:00',\n",
              "               '2021-05-21 05:50:00', '2021-05-21 05:55:00',\n",
              "               '2021-05-21 06:00:00', '2021-05-21 06:05:00',\n",
              "               '2021-05-21 06:10:00', '2021-05-21 06:15:00',\n",
              "               '2021-05-21 06:20:00', '2021-05-21 06:25:00',\n",
              "               '2021-05-21 06:30:00', '2021-05-21 06:35:00',\n",
              "               '2021-05-21 06:40:00', '2021-05-21 06:45:00',\n",
              "               '2021-05-21 06:50:00', '2021-05-21 06:55:00',\n",
              "               '2021-05-21 07:00:00', '2021-05-21 07:05:00',\n",
              "               '2021-05-21 07:10:00', '2021-05-21 07:15:00',\n",
              "               '2021-05-21 07:20:00', '2021-05-21 07:25:00',\n",
              "               '2021-05-21 07:30:00', '2021-05-21 07:35:00',\n",
              "               '2021-05-21 07:40:00', '2021-05-21 07:45:00',\n",
              "               '2021-05-21 07:50:00', '2021-05-21 07:55:00',\n",
              "               '2021-05-21 08:00:00', '2021-05-21 08:05:00',\n",
              "               '2021-05-21 08:10:00', '2021-05-21 08:15:00'],\n",
              "              dtype='datetime64[ns]', freq='5T')"
            ]
          },
          "metadata": {
            "tags": []
          },
          "execution_count": 36
        }
      ]
    },
    {
      "cell_type": "code",
      "metadata": {
        "colab": {
          "base_uri": "https://localhost:8080/"
        },
        "id": "zpTbT0o8ZdgK",
        "outputId": "b5fb1565-786e-428d-9d6b-013c44cdf0b5"
      },
      "source": [
        "ts = pd.Series(np.random.randint(0, 500, len(rng)), index = rng)\n",
        "ts"
      ],
      "execution_count": 37,
      "outputs": [
        {
          "output_type": "execute_result",
          "data": {
            "text/plain": [
              "2021-05-21 00:00:00    186\n",
              "2021-05-21 00:05:00    275\n",
              "2021-05-21 00:10:00    370\n",
              "2021-05-21 00:15:00    408\n",
              "2021-05-21 00:20:00    300\n",
              "                      ... \n",
              "2021-05-21 07:55:00    142\n",
              "2021-05-21 08:00:00    233\n",
              "2021-05-21 08:05:00    488\n",
              "2021-05-21 08:10:00    461\n",
              "2021-05-21 08:15:00    187\n",
              "Freq: 5T, Length: 100, dtype: int64"
            ]
          },
          "metadata": {
            "tags": []
          },
          "execution_count": 37
        }
      ]
    },
    {
      "cell_type": "code",
      "metadata": {
        "colab": {
          "base_uri": "https://localhost:8080/"
        },
        "id": "PbqGcUyDZdim",
        "outputId": "b6f08730-33a7-4051-ca2d-67823b27d8db"
      },
      "source": [
        "(ts.resample('1min').sum())"
      ],
      "execution_count": 39,
      "outputs": [
        {
          "output_type": "execute_result",
          "data": {
            "text/plain": [
              "2021-05-21 00:00:00    186\n",
              "2021-05-21 00:01:00      0\n",
              "2021-05-21 00:02:00      0\n",
              "2021-05-21 00:03:00      0\n",
              "2021-05-21 00:04:00      0\n",
              "                      ... \n",
              "2021-05-21 08:11:00      0\n",
              "2021-05-21 08:12:00      0\n",
              "2021-05-21 08:13:00      0\n",
              "2021-05-21 08:14:00      0\n",
              "2021-05-21 08:15:00    187\n",
              "Freq: T, Length: 496, dtype: int64"
            ]
          },
          "metadata": {
            "tags": []
          },
          "execution_count": 39
        }
      ]
    },
    {
      "cell_type": "code",
      "metadata": {
        "id": "KZOMiG37ctfA"
      },
      "source": [
        "rng = pd.date_range('05/21/2021', periods=5, freq='D')"
      ],
      "execution_count": 42,
      "outputs": []
    },
    {
      "cell_type": "code",
      "metadata": {
        "id": "D9t6YI3Icthi"
      },
      "source": [
        "ts = pd.Series(np.random.randn(len(rng)), rng)"
      ],
      "execution_count": 43,
      "outputs": []
    },
    {
      "cell_type": "code",
      "metadata": {
        "colab": {
          "base_uri": "https://localhost:8080/"
        },
        "id": "eB9EoFJpctmJ",
        "outputId": "1d77160a-cda7-4c2c-8d9e-3db55089bfd8"
      },
      "source": [
        "ts"
      ],
      "execution_count": 44,
      "outputs": [
        {
          "output_type": "execute_result",
          "data": {
            "text/plain": [
              "2021-05-21   -1.422220\n",
              "2021-05-22    1.387620\n",
              "2021-05-23    1.479727\n",
              "2021-05-24   -0.076193\n",
              "2021-05-25   -0.282830\n",
              "Freq: D, dtype: float64"
            ]
          },
          "metadata": {
            "tags": []
          },
          "execution_count": 44
        }
      ]
    },
    {
      "cell_type": "code",
      "metadata": {
        "colab": {
          "base_uri": "https://localhost:8080/"
        },
        "id": "-Ivamq5hcto9",
        "outputId": "945f878a-1d97-4d9a-ed6c-980f88869f5c"
      },
      "source": [
        " ts.to_period()"
      ],
      "execution_count": 47,
      "outputs": [
        {
          "output_type": "execute_result",
          "data": {
            "text/plain": [
              "2021-05-21   -1.422220\n",
              "2021-05-22    1.387620\n",
              "2021-05-23    1.479727\n",
              "2021-05-24   -0.076193\n",
              "2021-05-25   -0.282830\n",
              "Freq: D, dtype: float64"
            ]
          },
          "metadata": {
            "tags": []
          },
          "execution_count": 47
        }
      ]
    },
    {
      "cell_type": "code",
      "metadata": {
        "colab": {
          "base_uri": "https://localhost:8080/"
        },
        "id": "rZqb-FhIeWMl",
        "outputId": "0a7133b9-4a81-4818-a429-08b985056bc9"
      },
      "source": [
        "print(ps.to_timestamp())"
      ],
      "execution_count": 48,
      "outputs": [
        {
          "output_type": "stream",
          "text": [
            "2021-05-21   -1.422220\n",
            "2021-05-22    1.387620\n",
            "2021-05-23    1.479727\n",
            "2021-05-24   -0.076193\n",
            "2021-05-25   -0.282830\n",
            "Freq: D, dtype: float64\n"
          ],
          "name": "stdout"
        }
      ]
    },
    {
      "cell_type": "code",
      "metadata": {
        "colab": {
          "base_uri": "https://localhost:8080/"
        },
        "id": "2Ey4owhgei7t",
        "outputId": "c4f1d54c-3b8e-4bfa-a1d1-0b233e12d564"
      },
      "source": [
        "prng = pd.period_range('1990Q1', '2020Q4', freq='Q-NOV')\n",
        "prng"
      ],
      "execution_count": 49,
      "outputs": [
        {
          "output_type": "execute_result",
          "data": {
            "text/plain": [
              "PeriodIndex(['1990Q1', '1990Q2', '1990Q3', '1990Q4', '1991Q1', '1991Q2',\n",
              "             '1991Q3', '1991Q4', '1992Q1', '1992Q2',\n",
              "             ...\n",
              "             '2018Q3', '2018Q4', '2019Q1', '2019Q2', '2019Q3', '2019Q4',\n",
              "             '2020Q1', '2020Q2', '2020Q3', '2020Q4'],\n",
              "            dtype='period[Q-NOV]', length=124, freq='Q-NOV')"
            ]
          },
          "metadata": {
            "tags": []
          },
          "execution_count": 49
        }
      ]
    },
    {
      "cell_type": "code",
      "metadata": {
        "id": "E-aOGt5rei-n"
      },
      "source": [
        "df = pd.DataFrame({\n",
        "    \"id\":[1, 2, 3, 4, 5, 6],\n",
        "    \"raw_grade\":['a', 'b', 'b', 'a', 'a', 'e']\n",
        "})"
      ],
      "execution_count": 51,
      "outputs": []
    },
    {
      "cell_type": "code",
      "metadata": {
        "colab": {
          "base_uri": "https://localhost:8080/",
          "height": 227
        },
        "id": "iV7zC8iTejBJ",
        "outputId": "1c12786a-d5d9-4f9a-dd21-358ef2b57ad8"
      },
      "source": [
        "df"
      ],
      "execution_count": 52,
      "outputs": [
        {
          "output_type": "execute_result",
          "data": {
            "text/html": [
              "<div>\n",
              "<style scoped>\n",
              "    .dataframe tbody tr th:only-of-type {\n",
              "        vertical-align: middle;\n",
              "    }\n",
              "\n",
              "    .dataframe tbody tr th {\n",
              "        vertical-align: top;\n",
              "    }\n",
              "\n",
              "    .dataframe thead th {\n",
              "        text-align: right;\n",
              "    }\n",
              "</style>\n",
              "<table border=\"1\" class=\"dataframe\">\n",
              "  <thead>\n",
              "    <tr style=\"text-align: right;\">\n",
              "      <th></th>\n",
              "      <th>id</th>\n",
              "      <th>raw_grade</th>\n",
              "    </tr>\n",
              "  </thead>\n",
              "  <tbody>\n",
              "    <tr>\n",
              "      <th>0</th>\n",
              "      <td>1</td>\n",
              "      <td>a</td>\n",
              "    </tr>\n",
              "    <tr>\n",
              "      <th>1</th>\n",
              "      <td>2</td>\n",
              "      <td>b</td>\n",
              "    </tr>\n",
              "    <tr>\n",
              "      <th>2</th>\n",
              "      <td>3</td>\n",
              "      <td>b</td>\n",
              "    </tr>\n",
              "    <tr>\n",
              "      <th>3</th>\n",
              "      <td>4</td>\n",
              "      <td>a</td>\n",
              "    </tr>\n",
              "    <tr>\n",
              "      <th>4</th>\n",
              "      <td>5</td>\n",
              "      <td>a</td>\n",
              "    </tr>\n",
              "    <tr>\n",
              "      <th>5</th>\n",
              "      <td>6</td>\n",
              "      <td>e</td>\n",
              "    </tr>\n",
              "  </tbody>\n",
              "</table>\n",
              "</div>"
            ],
            "text/plain": [
              "   id raw_grade\n",
              "0   1         a\n",
              "1   2         b\n",
              "2   3         b\n",
              "3   4         a\n",
              "4   5         a\n",
              "5   6         e"
            ]
          },
          "metadata": {
            "tags": []
          },
          "execution_count": 52
        }
      ]
    },
    {
      "cell_type": "code",
      "metadata": {
        "id": "XtPIBblbfUvY"
      },
      "source": [
        "df[\"grade\"] = df[\"raw_grade\"].astype(\"category\")"
      ],
      "execution_count": 54,
      "outputs": []
    },
    {
      "cell_type": "code",
      "metadata": {
        "colab": {
          "base_uri": "https://localhost:8080/"
        },
        "id": "ISIrvRuOfUw2",
        "outputId": "5a468b2e-b1fb-4980-8317-ce44a3b28826"
      },
      "source": [
        "df[\"grade\"]"
      ],
      "execution_count": 55,
      "outputs": [
        {
          "output_type": "execute_result",
          "data": {
            "text/plain": [
              "0    a\n",
              "1    b\n",
              "2    b\n",
              "3    a\n",
              "4    a\n",
              "5    e\n",
              "Name: grade, dtype: category\n",
              "Categories (3, object): ['a', 'b', 'e']"
            ]
          },
          "metadata": {
            "tags": []
          },
          "execution_count": 55
        }
      ]
    },
    {
      "cell_type": "code",
      "metadata": {
        "id": "w_QdStzmfUzB"
      },
      "source": [
        "df[\"grade\"].cat.categories = [\"very good\", \"good\", \"very bad\"]"
      ],
      "execution_count": 60,
      "outputs": []
    },
    {
      "cell_type": "code",
      "metadata": {
        "id": "Lgf4T32qggFx"
      },
      "source": [
        "df['grade'] = df['grade'].cat.set_categories(['very bad', 'bad', 'medium', 'good', 'very good'])"
      ],
      "execution_count": 64,
      "outputs": []
    },
    {
      "cell_type": "code",
      "metadata": {
        "id": "qkwqi6arggH5"
      },
      "source": [
        "\n",
        "ts = pd.Series(np.random.randn(1000), index=pd.date_range('20210521', periods=1000))"
      ],
      "execution_count": 68,
      "outputs": []
    },
    {
      "cell_type": "code",
      "metadata": {
        "id": "b3DzsB58hYbN"
      },
      "source": [
        "ts_cum = ts.cumsum()"
      ],
      "execution_count": 70,
      "outputs": []
    },
    {
      "cell_type": "code",
      "metadata": {
        "id": "pCukPh4ChiqJ"
      },
      "source": [
        "ts = pd.Series(np.random.randn(1000), index=pd.date_range('20210521', periods=1000))\n",
        "df = pd.DataFrame(np.random.randn(1000, 4), index=ts.index, columns = ['A', 'B', 'C', 'D'])"
      ],
      "execution_count": 72,
      "outputs": []
    },
    {
      "cell_type": "code",
      "metadata": {
        "colab": {
          "base_uri": "https://localhost:8080/",
          "height": 197
        },
        "id": "nxwqPk7Dhish",
        "outputId": "b20ac995-3c3d-4fa5-ade8-512234bc888f"
      },
      "source": [
        "df.head()"
      ],
      "execution_count": 73,
      "outputs": [
        {
          "output_type": "execute_result",
          "data": {
            "text/html": [
              "<div>\n",
              "<style scoped>\n",
              "    .dataframe tbody tr th:only-of-type {\n",
              "        vertical-align: middle;\n",
              "    }\n",
              "\n",
              "    .dataframe tbody tr th {\n",
              "        vertical-align: top;\n",
              "    }\n",
              "\n",
              "    .dataframe thead th {\n",
              "        text-align: right;\n",
              "    }\n",
              "</style>\n",
              "<table border=\"1\" class=\"dataframe\">\n",
              "  <thead>\n",
              "    <tr style=\"text-align: right;\">\n",
              "      <th></th>\n",
              "      <th>A</th>\n",
              "      <th>B</th>\n",
              "      <th>C</th>\n",
              "      <th>D</th>\n",
              "    </tr>\n",
              "  </thead>\n",
              "  <tbody>\n",
              "    <tr>\n",
              "      <th>2021-05-21</th>\n",
              "      <td>-0.138812</td>\n",
              "      <td>-0.913746</td>\n",
              "      <td>-1.179010</td>\n",
              "      <td>0.284523</td>\n",
              "    </tr>\n",
              "    <tr>\n",
              "      <th>2021-05-22</th>\n",
              "      <td>0.652068</td>\n",
              "      <td>1.046594</td>\n",
              "      <td>0.588863</td>\n",
              "      <td>-0.480430</td>\n",
              "    </tr>\n",
              "    <tr>\n",
              "      <th>2021-05-23</th>\n",
              "      <td>-0.831256</td>\n",
              "      <td>1.203618</td>\n",
              "      <td>-0.588262</td>\n",
              "      <td>2.538040</td>\n",
              "    </tr>\n",
              "    <tr>\n",
              "      <th>2021-05-24</th>\n",
              "      <td>-0.000377</td>\n",
              "      <td>-0.949898</td>\n",
              "      <td>-1.082473</td>\n",
              "      <td>0.799681</td>\n",
              "    </tr>\n",
              "    <tr>\n",
              "      <th>2021-05-25</th>\n",
              "      <td>1.863687</td>\n",
              "      <td>-1.972041</td>\n",
              "      <td>-0.641446</td>\n",
              "      <td>-0.090985</td>\n",
              "    </tr>\n",
              "  </tbody>\n",
              "</table>\n",
              "</div>"
            ],
            "text/plain": [
              "                   A         B         C         D\n",
              "2021-05-21 -0.138812 -0.913746 -1.179010  0.284523\n",
              "2021-05-22  0.652068  1.046594  0.588863 -0.480430\n",
              "2021-05-23 -0.831256  1.203618 -0.588262  2.538040\n",
              "2021-05-24 -0.000377 -0.949898 -1.082473  0.799681\n",
              "2021-05-25  1.863687 -1.972041 -0.641446 -0.090985"
            ]
          },
          "metadata": {
            "tags": []
          },
          "execution_count": 73
        }
      ]
    },
    {
      "cell_type": "code",
      "metadata": {
        "colab": {
          "base_uri": "https://localhost:8080/",
          "height": 197
        },
        "id": "6vgBDMOuh93i",
        "outputId": "0442d9db-31f3-4322-dbd4-61efa5de633e"
      },
      "source": [
        "df.tail()"
      ],
      "execution_count": 74,
      "outputs": [
        {
          "output_type": "execute_result",
          "data": {
            "text/html": [
              "<div>\n",
              "<style scoped>\n",
              "    .dataframe tbody tr th:only-of-type {\n",
              "        vertical-align: middle;\n",
              "    }\n",
              "\n",
              "    .dataframe tbody tr th {\n",
              "        vertical-align: top;\n",
              "    }\n",
              "\n",
              "    .dataframe thead th {\n",
              "        text-align: right;\n",
              "    }\n",
              "</style>\n",
              "<table border=\"1\" class=\"dataframe\">\n",
              "  <thead>\n",
              "    <tr style=\"text-align: right;\">\n",
              "      <th></th>\n",
              "      <th>A</th>\n",
              "      <th>B</th>\n",
              "      <th>C</th>\n",
              "      <th>D</th>\n",
              "    </tr>\n",
              "  </thead>\n",
              "  <tbody>\n",
              "    <tr>\n",
              "      <th>2024-02-10</th>\n",
              "      <td>-0.581611</td>\n",
              "      <td>-0.514087</td>\n",
              "      <td>-1.305167</td>\n",
              "      <td>0.048644</td>\n",
              "    </tr>\n",
              "    <tr>\n",
              "      <th>2024-02-11</th>\n",
              "      <td>0.702218</td>\n",
              "      <td>-1.016837</td>\n",
              "      <td>-2.430356</td>\n",
              "      <td>-0.363852</td>\n",
              "    </tr>\n",
              "    <tr>\n",
              "      <th>2024-02-12</th>\n",
              "      <td>0.706199</td>\n",
              "      <td>0.264553</td>\n",
              "      <td>2.081582</td>\n",
              "      <td>0.039813</td>\n",
              "    </tr>\n",
              "    <tr>\n",
              "      <th>2024-02-13</th>\n",
              "      <td>0.337499</td>\n",
              "      <td>-1.588677</td>\n",
              "      <td>-0.506358</td>\n",
              "      <td>0.544226</td>\n",
              "    </tr>\n",
              "    <tr>\n",
              "      <th>2024-02-14</th>\n",
              "      <td>-0.676178</td>\n",
              "      <td>0.050570</td>\n",
              "      <td>1.658453</td>\n",
              "      <td>1.732714</td>\n",
              "    </tr>\n",
              "  </tbody>\n",
              "</table>\n",
              "</div>"
            ],
            "text/plain": [
              "                   A         B         C         D\n",
              "2024-02-10 -0.581611 -0.514087 -1.305167  0.048644\n",
              "2024-02-11  0.702218 -1.016837 -2.430356 -0.363852\n",
              "2024-02-12  0.706199  0.264553  2.081582  0.039813\n",
              "2024-02-13  0.337499 -1.588677 -0.506358  0.544226\n",
              "2024-02-14 -0.676178  0.050570  1.658453  1.732714"
            ]
          },
          "metadata": {
            "tags": []
          },
          "execution_count": 74
        }
      ]
    },
    {
      "cell_type": "code",
      "metadata": {
        "colab": {
          "base_uri": "https://localhost:8080/",
          "height": 294
        },
        "id": "N-y1wlUdiaJ9",
        "outputId": "ff2c58ef-03af-4729-fc0c-65718732589c"
      },
      "source": [
        "df.plot()"
      ],
      "execution_count": 75,
      "outputs": [
        {
          "output_type": "execute_result",
          "data": {
            "text/plain": [
              "<matplotlib.axes._subplots.AxesSubplot at 0x7f7998847950>"
            ]
          },
          "metadata": {
            "tags": []
          },
          "execution_count": 75
        },
        {
          "output_type": "display_data",
          "data": {
            "image/png": "[encoded data removed]",
            "text/plain": [
              "<Figure size 432x288 with 1 Axes>"
            ]
          },
          "metadata": {
            "tags": [],
            "needs_background": "light"
          }
        }
      ]
    },
    {
      "cell_type": "code",
      "metadata": {
        "id": "U6eGLFTkic8z"
      },
      "source": [
        "df.to_csv('foo.csv')"
      ],
      "execution_count": 76,
      "outputs": []
    },
    {
      "cell_type": "code",
      "metadata": {
        "id": "rR12F22dioYC"
      },
      "source": [
        "df.to_excel"
      ],
      "execution_count": null,
      "outputs": []
    },
    {
      "cell_type": "code",
      "metadata": {
        "id": "1R5Xc3NaioZ3"
      },
      "source": [
        ""
      ],
      "execution_count": null,
      "outputs": []
    }
  ]
}
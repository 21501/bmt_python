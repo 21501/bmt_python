{
  "nbformat": 4,
  "nbformat_minor": 0,
  "metadata": {
    "colab": {
      "name": "21501_10주차.ipynb",
      "provenance": [],
      "toc_visible": true,
      "authorship_tag": "ABX9TyOVF2nIXHjTZzaS3DFjxSTt",
      "include_colab_link": true
    },
    "kernelspec": {
      "name": "python3",
      "display_name": "Python 3"
    },
    "language_info": {
      "name": "python"
    }
  },
  "cells": [
    {
      "cell_type": "markdown",
      "metadata": {
        "id": "view-in-github",
        "colab_type": "text"
      },
      "source": [
        "<a href=\"https://colab.research.google.com/github/21501/bmt_python/blob/main/21501_10%EC%A3%BC%EC%B0%A8.ipynb\" target=\"_parent\"><img src=\"https://colab.research.google.com/assets/colab-badge.svg\" alt=\"Open In Colab\"/></a>"
      ]
    },
    {
      "cell_type": "code",
      "metadata": {
        "id": "z9xb7MeFGebM"
      },
      "source": [
        "import pandas as pd\n",
        "import numpy as np\n",
        "import matplotlib.pyplot as plt"
      ],
      "execution_count": null,
      "outputs": []
    },
    {
      "cell_type": "code",
      "metadata": {
        "id": "S8NahsrTIEj7"
      },
      "source": [
        "# 1. series 생성\n",
        "\n",
        "s = pd.series( [1, 3, 5, np.nan, 6, 8] )\n",
        "a = [1, 3, 5, np.nan, 6, 8]\n",
        "s"
      ],
      "execution_count": null,
      "outputs": []
    },
    {
      "cell_type": "code",
      "metadata": {
        "id": "Mc8ZBFnGIuFq"
      },
      "source": [
        "type(a)"
      ],
      "execution_count": null,
      "outputs": []
    },
    {
      "cell_type": "code",
      "metadata": {
        "id": "nF6YUsZkI6pM"
      },
      "source": [
        "tes = pd.date_range('20210507',periods=6)\n",
        "dates"
      ],
      "execution_count": null,
      "outputs": []
    },
    {
      "cell_type": "code",
      "metadata": {
        "id": "5K-gzom4JowC"
      },
      "source": [
        "df = pd.DateFrame(np.randon.randn(6,4)), index=dates \n",
        "df"
      ],
      "execution_count": null,
      "outputs": []
    },
    {
      "cell_type": "code",
      "metadata": {
        "id": "FwKz5kQzKkQ6"
      },
      "source": [
        "df = pd.DateFrame(np.randon.randn(6,4), index=dates, columns=['국어,영어,수학,물리']\n",
        "df "
      ],
      "execution_count": null,
      "outputs": []
    },
    {
      "cell_type": "code",
      "metadata": {
        "id": "1fVpA2EBK2wT"
      },
      "source": [
        "df = pd.DateFrame(np.randon.randn(6,4), index=dates, columns=list('ABCD')\n",
        "df "
      ],
      "execution_count": null,
      "outputs": []
    },
    {
      "cell_type": "code",
      "metadata": {
        "id": "GkRwbz7vQIn2"
      },
      "source": [
        "dates = pd.date_range('20201113', periods=6)\n",
        "\n",
        "df = pd.DataFrame(np.random.randn(6,4), index=dates, columns=list('ABCD')) \n"
      ],
      "execution_count": null,
      "outputs": []
    },
    {
      "cell_type": "code",
      "metadata": {
        "id": "hffuyseuIxJz"
      },
      "source": [
        "\n",
        "dates = pd.date_range('20201113', periods=6)\n",
        "\n",
        "df = pd.DataFrame(np.random.randn(6,4), index=dates, columns=list('ABCD'))\n",
        "\n",
        "print(df);print()"
      ],
      "execution_count": null,
      "outputs": []
    },
    {
      "cell_type": "code",
      "metadata": {
        "id": "5N3GAja9cbJm"
      },
      "source": [
        "df = pd.DataFrame(\n",
        "    {\n",
        "        'A' : ['one', 'one', 'two', 'three'] * 3,\n",
        "        'B' : ['A', 'B', 'C'] * 4,\n",
        "        'C' : ['foo', 'foo', 'foo', 'bar', 'bar', 'bar' ] * 2,\n",
        "        'D' : np.random.randn(12),\n",
        "        'E' : np.random.randn(12)\n",
        "    }\n",
        ")\n",
        "\n",
        "print(df);print()\n"
      ],
      "execution_count": null,
      "outputs": []
    },
    {
      "cell_type": "code",
      "metadata": {
        "id": "nH6BhRb2ccCm"
      },
      "source": [
        "\n",
        "rng = pd.date_range('11/14/2020', periods=5, freq='D') # 1일당 5개 데이터 뽑음 \n",
        "\n",
        "ts = pd.Series(np.random.randn(len(rng)), rng)\n",
        "\n",
        "print(ts);print()\n",
        "\n",
        "ts_utc = ts.tz_localize('UTC') # UTC 시간 표현\n",
        "print(ts_utc);print()\n",
        "\n",
        "# https://rfriend.tistory.com/505\n",
        "ts_utc_us=ts_utc.tz_convert('Asia/Seoul') # 다른 시간대로 변환\n",
        "print(ts_utc_us);print()\n",
        "\n"
      ],
      "execution_count": null,
      "outputs": []
    },
    {
      "cell_type": "code",
      "metadata": {
        "id": "i_OBQEVhceh2"
      },
      "source": [
        "rng = pd.date_range('11/14/2020', periods=5, freq='M') # 월별 5개 데이터 뽑음 \n",
        "\n",
        "ts = pd.Series(np.random.randn(len(rng)), rng)\n",
        "\n",
        "print(ts);print()\n",
        "\n",
        "ps = ts.to_period()\n",
        "print(ps);print()\n",
        "\n",
        "print(ps.to_timestamp())"
      ],
      "execution_count": null,
      "outputs": []
    }
  ]
}
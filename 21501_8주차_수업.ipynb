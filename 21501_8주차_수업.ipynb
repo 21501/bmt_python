{
  "nbformat": 4,
  "nbformat_minor": 0,
  "metadata": {
    "colab": {
      "name": "21501_8주차 수업.ipynb",
      "provenance": [],
      "authorship_tag": "ABX9TyPrkxdIKXSxafi/1pHf8vHE",
      "include_colab_link": true
    },
    "kernelspec": {
      "name": "python3",
      "display_name": "Python 3"
    },
    "language_info": {
      "name": "python"
    }
  },
  "cells": [
    {
      "cell_type": "markdown",
      "metadata": {
        "id": "view-in-github",
        "colab_type": "text"
      },
      "source": [
        "<a href=\"https://colab.research.google.com/github/21501/bmt_python/blob/main/21501_8%EC%A3%BC%EC%B0%A8_%EC%88%98%EC%97%85.ipynb\" target=\"_parent\"><img src=\"https://colab.research.google.com/assets/colab-badge.svg\" alt=\"Open In Colab\"/></a>"
      ]
    },
    {
      "cell_type": "code",
      "metadata": {
        "colab": {
          "base_uri": "https://localhost:8080/",
          "height": 136
        },
        "id": "2_DNc3Za9yh6",
        "outputId": "c0ab7798-febd-4643-d1cb-5567bda2b82d"
      },
      "source": [
        "lst_even = list()\n",
        "lst_odd = []\n",
        "\n",
        "for i in range(5):\n",
        "  num = int(input('숫자 입력 :'))\n",
        "\n",
        "  if num % 2 == 0:\n",
        "    lst-even.append(num)\n",
        "  else :\n",
        "    lst_odd.append(num)\n",
        "\n",
        "print()\n",
        "print(f '짝수 리스트' : [list.even])\n",
        "print(f '홀수 리스트' : [list.odd]])"
      ],
      "execution_count": 7,
      "outputs": [
        {
          "output_type": "error",
          "ename": "SyntaxError",
          "evalue": "ignored",
          "traceback": [
            "\u001b[0;36m  File \u001b[0;32m\"<ipython-input-7-e4bcd1bcbc0a>\"\u001b[0;36m, line \u001b[0;32m13\u001b[0m\n\u001b[0;31m    print(f '짝수 리스트' : [list.even])\u001b[0m\n\u001b[0m                   ^\u001b[0m\n\u001b[0;31mSyntaxError\u001b[0m\u001b[0;31m:\u001b[0m invalid syntax\n"
          ]
        }
      ]
    },
    {
      "cell_type": "code",
      "metadata": {
        "colab": {
          "base_uri": "https://localhost:8080/",
          "height": 136
        },
        "id": "RgAUvhumAPFi",
        "outputId": "4d1a83b0-512d-4988-bc27-2e31fc09a400"
      },
      "source": [
        "area = { '서울시':57, '부산시':62, '대구시':59,\n",
        "         '인천시':59, '강화군':58, '서해5도':64,\n",
        "         '광주시':62, '대전시':60, '울산시':53,\n",
        "         '세종시':58 }\n",
        "\n",
        "report = { '위험':'설사, 구토 등 식중독 의심 증상이 있으면 의료기관을 방문하여 의사 지시에 따름',\n",
        "           '경고':'조리도구는 세척, 소독 등을 거쳐 세균 오염을 방지하고 유통기한, 보관 방법 등을 확인하여 음식물 조리, 보관에 각별히 주의하여야 함',\n",
        "           '주의':'조리 음식은 중심부까지 75도(어패류 85도)로 1분 이상 완전히 익히고 외부로 운반할 때에는 가급적 아이스박스 등을 이용하여 10도 이하에서 보관 및 운반',\n",
        "           '관심':'화장실 사용 후, 귀가 후, 조리 전에 손 씻기를 생활화'\n",
        "         }\n",
        "areashow = []\n",
        "\n",
        "for key, value in area.items():\n",
        "  if value >= 86:\n",
        "    check = '위험'\n",
        "  elif value >= 71:\n",
        "    check = '경고'\n",
        "  elif value >= 55:\n",
        "    check = '주의'\n",
        "  else : check = '관심'\n",
        "\n",
        "   areashow[key] = check"
      ],
      "execution_count": 13,
      "outputs": [
        {
          "output_type": "error",
          "ename": "IndentationError",
          "evalue": "ignored",
          "traceback": [
            "\u001b[0;36m  File \u001b[0;32m\"<ipython-input-13-e0153c18b2c2>\"\u001b[0;36m, line \u001b[0;32m22\u001b[0m\n\u001b[0;31m    areashow[key] = check\u001b[0m\n\u001b[0m    ^\u001b[0m\n\u001b[0;31mIndentationError\u001b[0m\u001b[0;31m:\u001b[0m unexpected indent\n"
          ]
        }
      ]
    },
    {
      "cell_type": "code",
      "metadata": {
        "id": "L7cpeyYPDFri"
      },
      "source": [
        "def cal(num1, num2, op) : \n",
        "  ans = 0\n",
        "  if   op == '+' : ans = num1 + num2\n",
        "  elif op == '-' : ans = num1 - num2\n",
        "  elif op == 'x' : ans = num1 * num2\n",
        "  elif op == '/' : ans = num1 / num2\n",
        "\n",
        "  show(num1, num2, op, ans)\n",
        "\n",
        "def numInput() :\n",
        "  data = int(input('숫자를 입력하세요 : '))\n",
        "  return data\n",
        "\n",
        "def strInput(msg) : \n",
        "  data = input(msg)\n",
        "  return data\n",
        "\n",
        "def show(num1, num2, op, ans) :\n",
        "  print(f'{num1}{op}{num2} = {ans}')\n",
        "\n",
        "if __name__ == '__main__' :\n",
        "  num1 = numInput()\n",
        "  num2 = numInput()\n",
        "  op = strInput('연산자를 입력하세요 : ')\n",
        "  cal(num1, num2, op)\n"
      ],
      "execution_count": null,
      "outputs": []
    },
    {
      "cell_type": "code",
      "metadata": {
        "id": "T8aKm5FQId3U"
      },
      "source": [
        "width = int(input('width : '))\n",
        "height = int(input('height : '))\n",
        "\n",
        "area = width * height\n",
        "\n",
        "if width == height : print(f'정사각형 넓이 : {area}')\n",
        "else : print(f'직사각형 넓이 : {area}')"
      ],
      "execution_count": null,
      "outputs": []
    },
    {
      "cell_type": "code",
      "metadata": {
        "id": "K68-qtupIgTU"
      },
      "source": [
        "weight = float(input('체중 : '))\n",
        "height_cm = float(input('키 : '))\n",
        "height_m = height_cm / 100\n",
        "gender = int(input('성별(남:1, 여:2) : '))\n",
        "\n",
        "bmi = weight / (height_m**2)\n",
        "\n",
        "print('-'*50)\n",
        "\n",
        "def std_weight(gender) :\n",
        "  if gender == 1 :\n",
        "    std = (height_m**2)*22\n",
        "    print(f'표준체중(남) : {std:.2f} kg')\n",
        "  else :\n",
        "    std = (height_m**2)*21\n",
        "    print(f'표준체중(여) : {std:.2f} kg')\n",
        "  \n",
        "  return std\n",
        "\n",
        "def check(bmi) :\n",
        "  if bmi < 18.5 :\n",
        "    print('저체중(Underweight')\n",
        "  elif bmi >= 18.5 and bmi < 25 :\n",
        "    print('정상(Normal range')\n",
        "  else :\n",
        "    print('비만(Overweight)')\n",
        "\n",
        "std_weight(gender)\n",
        "print(f'체질량지수(BMI) : {bmi:.2f}')\n",
        "check(bmi)"
      ],
      "execution_count": null,
      "outputs": []
    },
    {
      "cell_type": "code",
      "metadata": {
        "id": "5rBFR8tVOacf"
      },
      "source": [
        "path = '/content/drive/My Drive/DATA/'\n",
        "\n",
        "f = open(path+'test.txt','w')\n",
        "\n",
        "inData = input('기록할 내용1 : ')\n",
        "f.write(inData + '\\n')\n",
        "\n",
        "inData = input('기록할 내용2 : ')\n",
        "f.write(inData + '\\n')\n",
        "\n",
        "f.close()\n",
        "\n",
        "\n",
        "# 파일 추가 기록\n",
        "\n",
        "f = open(path+'test.txt','a')\n",
        "\n",
        "inData = input('기록할 내용3 : ')\n",
        "f.write(inData)\n",
        "\n",
        "f.close()"
      ],
      "execution_count": null,
      "outputs": []
    },
    {
      "cell_type": "code",
      "metadata": {
        "id": "Z_-GVtBaOae-"
      },
      "source": [
        "path = '/content/drive/My Drive/DATA/'\n",
        "\n",
        "fp = open(path+'지역평균기온.txt')\n",
        "data = fp.read()\n",
        "fp.close()\n",
        "print(data)"
      ],
      "execution_count": null,
      "outputs": []
    },
    {
      "cell_type": "code",
      "metadata": {
        "id": "PIkXifIIOahW"
      },
      "source": [
        "path = '/content/drive/My Drive/DATA/'\n",
        "\n",
        "fp = open(path+'지역평균기온.txt', 'r', encoding='utf-8')\n",
        "data = fp.readlines()\n",
        "fp.close()\n",
        "\n",
        "dt = {}\n",
        "for line in data :\n",
        "  line = line.replace('\\n','')\n",
        "  items = line.split(',')\n",
        "  dt[items[0]] = int(items[1])\n",
        "\n",
        "dt"
      ],
      "execution_count": null,
      "outputs": []
    },
    {
      "cell_type": "code",
      "metadata": {
        "id": "0N7lm9Y_Ta_f"
      },
      "source": [
        "path = '/content/drive/My Drive/DATA/'\n",
        "\n",
        "fp = open(path+'지역평균기온.txt', 'r', encoding='utf-8')\n",
        "data = fp.readlines()\n",
        "fp.close()\n",
        "\n",
        "dt = {}\n",
        "\n",
        "for line in data : \n",
        "  line = line.replace('\\n', '')\n",
        "  items = line.split(',')\n",
        "  dt[items[0]] = int(items[1])\n",
        "print(dt)\n",
        "\n",
        "area = list(dt.keys())\n",
        "temp = list(dt.values())\n",
        "print(area)\n",
        "print(temp)\n",
        "\n",
        "# 그래프 그리기\n",
        "\n",
        "import matplotlib.pyplot as plt\n",
        "\n",
        "plt.rc('font', family='NanumBarunGothic') # 한글 글꼴 설정\n",
        "\n",
        "plt.figure(figsize=(10, 5))\n",
        "plt.plot(area, temp, 'go--', color='skyblue')\n",
        "plt.xticks(rotation=0)\n",
        "plt.title('지역평균기온')\n",
        "plt.show()"
      ],
      "execution_count": null,
      "outputs": []
    }
  ]
}